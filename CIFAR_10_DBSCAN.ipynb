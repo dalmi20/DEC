{
 "cells": [
  {
   "cell_type": "code",
   "execution_count": 1,
   "metadata": {},
   "outputs": [
    {
     "name": "stdout",
     "output_type": "stream",
     "text": [
      "WARNING:tensorflow:From C:\\Users\\vioritiva\\AppData\\Roaming\\Python\\Python311\\site-packages\\keras\\src\\losses.py:2976: The name tf.losses.sparse_softmax_cross_entropy is deprecated. Please use tf.compat.v1.losses.sparse_softmax_cross_entropy instead.\n",
      "\n",
      "Accuracy: 0.1\n",
      "NMI: 0.0\n"
     ]
    }
   ],
   "source": [
    "import numpy as np\n",
    "from keras.datasets import cifar10\n",
    "from sklearn.metrics import accuracy_score\n",
    "from sklearn.cluster import DBSCAN\n",
    "from sklearn.metrics import accuracy_score, normalized_mutual_info_score\n",
    "\n",
    "(x_train, y_train), (x_test, y_test) = cifar10.load_data()\n",
    "\n",
    "x_train = x_train.reshape(x_train.shape[0], -1)\n",
    "x_test = x_test.reshape(x_test.shape[0], -1)\n",
    "\n",
    "\n",
    "x_train = x_train/255\n",
    "x_test = x_test/255\n",
    "\n",
    "y_train = y_train.reshape((50000,))\n",
    "y_test = y_test.reshape((10000,))\n",
    "\n",
    "\n",
    "# Cluster the data using DBSCAN\n",
    "dbscan = DBSCAN(eps=0.5, min_samples=10)\n",
    "dbscan.fit(x_train)\n",
    "\n",
    "y_pred = dbscan.labels_\n",
    "\n",
    "relation = dict((x_train, 0) for x_train in range(10))\n",
    "for i in range(10):\n",
    "    u, indeces = np.unique(y_pred[y_train == i], return_inverse=True)\n",
    "    i_pred = u[np.argmax(np.bincount(indeces))]\n",
    "    relation[i_pred] = i\n",
    "    \n",
    "y_pred = np.array(list(map(lambda x_train: relation[x_train], y_pred)))\n",
    "\n",
    "# Evaluate the clustering performance using accuracy and NMI\n",
    "print('Accuracy:', accuracy_score(y_train, y_pred))\n",
    "print('NMI:', normalized_mutual_info_score(y_train, y_pred))"
   ]
  },
  {
   "cell_type": "code",
   "execution_count": null,
   "metadata": {},
   "outputs": [],
   "source": [
    "from sklearn.metrics import silhouette_score\n",
    "silhouette_avg = silhouette_score(x_train , y_pred)\n",
    "\n",
    "print(\"The average silhouette_score is :\", silhouette_avg)\n",
    "    "
   ]
  },
  {
   "cell_type": "markdown",
   "metadata": {},
   "source": [
    "X_test"
   ]
  },
  {
   "cell_type": "code",
   "execution_count": null,
   "metadata": {},
   "outputs": [],
   "source": [
    "# Cluster the data using DBSCAN\n",
    "dbscan = DBSCAN(eps=0.5, min_samples=10)\n",
    "dbscan.fit(x_test)\n",
    "\n",
    "y_pred = dbscan.labels_\n",
    "\n",
    "relation = dict((x_test, 0) for x_test in range(10))\n",
    "for i in range(10):\n",
    "    u, indeces = np.unique(y_pred[y_test == i], return_inverse=True)\n",
    "    i_pred = u[np.argmax(np.bincount(indeces))]\n",
    "    relation[i_pred] = i\n",
    "    \n",
    "y_pred_test = np.array(list(map(lambda x_test: relation[x_test], y_pred)))\n",
    "\n",
    "# Evaluate the clustering performance using accuracy and NMI\n",
    "print('Accuracy:', accuracy_score(y_test, y_pred_test))\n",
    "print('NMI:', normalized_mutual_info_score(y_test, y_pred_test))"
   ]
  },
  {
   "cell_type": "code",
   "execution_count": null,
   "metadata": {},
   "outputs": [],
   "source": [
    "from sklearn.metrics import silhouette_score\n",
    "silhouette_avg = silhouette_score(x_test , y_pred_test)\n",
    "\n",
    "print(\"The average silhouette_score is :\", silhouette_avg)\n",
    "    "
   ]
  }
 ],
 "metadata": {
  "kernelspec": {
   "display_name": "Python 3",
   "language": "python",
   "name": "python3"
  },
  "language_info": {
   "codemirror_mode": {
    "name": "ipython",
    "version": 3
   },
   "file_extension": ".py",
   "mimetype": "text/x-python",
   "name": "python",
   "nbconvert_exporter": "python",
   "pygments_lexer": "ipython3",
   "version": "3.11.5"
  }
 },
 "nbformat": 4,
 "nbformat_minor": 2
}
